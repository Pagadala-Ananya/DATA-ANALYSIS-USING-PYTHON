{
  "nbformat": 4,
  "nbformat_minor": 0,
  "metadata": {
    "colab": {
      "provenance": [],
      "authorship_tag": "ABX9TyM/yyL/HMGMribcxRYJUG5C",
      "include_colab_link": true
    },
    "kernelspec": {
      "name": "python3",
      "display_name": "Python 3"
    },
    "language_info": {
      "name": "python"
    }
  },
  "cells": [
    {
      "cell_type": "markdown",
      "metadata": {
        "id": "view-in-github",
        "colab_type": "text"
      },
      "source": [
        "<a href=\"https://colab.research.google.com/github/Pagadala-Ananya/DATA-ANALYSIS-USING-PYTHON/blob/main/2203A52046_PAGADALA_ANANYA_DAUP(LAB_ACTIVITY_6_2(UNIONS)).ipynb\" target=\"_parent\"><img src=\"https://colab.research.google.com/assets/colab-badge.svg\" alt=\"Open In Colab\"/></a>"
      ]
    },
    {
      "cell_type": "code",
      "execution_count": 2,
      "metadata": {
        "colab": {
          "base_uri": "https://localhost:8080/"
        },
        "id": "fda0HP-gqUTm",
        "outputId": "60ccafa5-578b-40a0-d645-cb32acc51f0a"
      },
      "outputs": [
        {
          "output_type": "stream",
          "name": "stdout",
          "text": [
            "P(A) - : 0.501\n",
            "P(B) - : 0.311\n",
            "P(A ∪ B) -: 0.6400000000000001\n",
            "P(A ∩ B) - : 0.172\n",
            "P(A | B) - : 0.5530546623794211\n",
            "P(Health & Beauty): 0.152\n",
            "P(Ewallet | Quantity > 5): 0.48695652173913045\n",
            "P(Yangon & Cash): 0.11\n",
            "P(Member & Rating > 8): 0.157\n",
            "Permutations (5 from 20 transactions): 1860480\n",
            "Combinations (3 from 6 product lines): 20\n",
            "Factorial of Branches: 6\n",
            "Permutations (4 from 3 payment methods): 0\n",
            "Combinations (5 from 15 employees): 3003\n",
            "Permutations (6 letters from 26 alphabet): 165765600\n"
          ]
        }
      ],
      "source": [
        "import pandas as pd\n",
        "import math\n",
        "\n",
        "# Load the dataset\n",
        "file_path = \"/content/supermarket_sales -.csv\"\n",
        "df = pd.read_csv(file_path)\n",
        "\n",
        "# Total number of transactions\n",
        "total_transactions = len(df)\n",
        "\n",
        "# Define events\n",
        "event_A = df[\"Customer type\"] == \"Member\"\n",
        "event_B = df[\"Payment\"] == \"Credit card\"\n",
        "event_HB = df[\"Product line\"] == \"Health and beauty\"\n",
        "event_EW = df[\"Payment\"] == \"Ewallet\"\n",
        "event_EW_Q5 = (df[\"Payment\"] == \"Ewallet\") & (df[\"Quantity\"] > 5)\n",
        "event_Yangon_Cash = (df[\"City\"] == \"Yangon\") & (df[\"Payment\"] == \"Cash\")\n",
        "event_Member_Rating8 = (df[\"Customer type\"] == \"Member\") & (df[\"Rating\"] > 8)\n",
        "\n",
        "# Compute probabilities\n",
        "P_A = event_A.sum() / total_transactions\n",
        "P_B = event_B.sum() / total_transactions\n",
        "P_A_and_B = (event_A & event_B).sum() / total_transactions\n",
        "P_A_union_B = P_A + P_B - P_A_and_B\n",
        "P_A_given_B = P_A_and_B / P_B if P_B > 0 else 0\n",
        "\n",
        "# Additional probabilities\n",
        "P_HB = event_HB.sum() / total_transactions\n",
        "P_EW_given_Q5 = event_EW_Q5.sum() / event_EW.sum() if event_EW.sum() > 0 else 0\n",
        "P_Yangon_Cash = event_Yangon_Cash.sum() / total_transactions\n",
        "P_Member_Rating8 = event_Member_Rating8.sum() / total_transactions\n",
        "\n",
        "# Define functions for Factorial, Permutations, and Combinations\n",
        "def factorial(n):\n",
        "    return math.factorial(n)\n",
        "\n",
        "def permutation(n, r):\n",
        "    return math.factorial(n) // math.factorial(n - r)\n",
        "\n",
        "def combination(n, r):\n",
        "    return math.factorial(n) // (math.factorial(r) * math.factorial(n - r))\n",
        "\n",
        "# Compute required values\n",
        "\n",
        "# 1. Ways to arrange 5 transactions from 20 transactions\n",
        "perm_5_of_20 = permutation(20, 5)\n",
        "\n",
        "# 2. Ways to select 3 different product lines from 6 categories\n",
        "comb_3_of_6 = combination(6, 3)\n",
        "\n",
        "# 3. Factorial of the total number of different branches\n",
        "num_branches = df[\"Branch\"].nunique()\n",
        "fact_branches = factorial(num_branches)\n",
        "\n",
        "# 4. Ways to display 4 different payment methods from the available 3 types (impossible case, should return 0)\n",
        "perm_4_of_3 = permutation(3, 4) if 3 >= 4 else 0\n",
        "\n",
        "# 5. Ways to select 5 employees from 15 for a customer feedback survey\n",
        "comb_5_of_15 = combination(15, 5)\n",
        "\n",
        "# 6. Unique invoice codes using 6 letters from the English alphabet\n",
        "perm_6_of_26 = permutation(26, 6)\n",
        "\n",
        "# Display results\n",
        "results = {\n",
        "    \"P(A) - \": P_A,\n",
        "    \"P(B) - \": P_B,\n",
        "    \"P(A ∪ B) -\": P_A_union_B,\n",
        "    \"P(A ∩ B) - \": P_A_and_B,\n",
        "    \"P(A | B) - \": P_A_given_B,\n",
        "    \"P(Health & Beauty)\": P_HB,\n",
        "    \"P(Ewallet | Quantity > 5)\": P_EW_given_Q5,\n",
        "    \"P(Yangon & Cash)\": P_Yangon_Cash,\n",
        "    \"P(Member & Rating > 8)\": P_Member_Rating8,\n",
        "    \"Permutations (5 from 20 transactions)\": perm_5_of_20,\n",
        "    \"Combinations (3 from 6 product lines)\": comb_3_of_6,\n",
        "    \"Factorial of Branches\": fact_branches,\n",
        "    \"Permutations (4 from 3 payment methods)\": perm_4_of_3,\n",
        "    \"Combinations (5 from 15 employees)\": comb_5_of_15,\n",
        "    \"Permutations (6 letters from 26 alphabet)\": perm_6_of_26,\n",
        "}\n",
        "\n",
        "for key, value in results.items():\n",
        "    print(f\"{key}: {value}\")"
      ]
    }
  ]
}